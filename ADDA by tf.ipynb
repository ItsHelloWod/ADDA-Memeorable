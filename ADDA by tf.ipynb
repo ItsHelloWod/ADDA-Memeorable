{
 "cells": [
  {
   "cell_type": "code",
   "execution_count": 1,
   "metadata": {},
   "outputs": [],
   "source": [
    "import tensorflow as tf\n",
    "from tensorflow import keras"
   ]
  },
  {
   "cell_type": "code",
   "execution_count": null,
   "metadata": {},
   "outputs": [],
   "source": [
    "class encoder(tf.keras.Model):\n",
    "    def __init__(self, dropout=0.2, slope=0.1):\n",
    "        super().__init__() \n",
    "        self.model = tf.keras.models.Sequential([\n",
    "            keras.layers.Dense(1024,input_shape = (4608,1),activation = tf.nn.leaky_relu(slope)),\n",
    "            keras.layers.Dense(512,activation = tf.nn.LeakyReLU(slope))])\n",
    "        \n",
    "    def call(self,input):\n",
    "        return self.model(input)\n",
    "    \n",
    "class discrimnator(tf.keras.Model):\n",
    "    def __init__(self):\n",
    "        super().__init__() \n",
    "        self.model = tf.keras.models.Sequential([\n",
    "            keras.layers.Dense(256,activation = tf.nn.leaky_relu(0.1)),\n",
    "            keras.layers.Dense(128,activation = tf.nn.leaky_relu(0.1)),\n",
    "            keras.layers.Dense(64,activation = tf.nn.leaky_relu(0.1))\n",
    "            keras.layers.Dense(1,activation = tf.nn.sigmoid)\n",
    "    def call(self,input):\n",
    "        return self.model(input)\n",
    "            \n",
    "class classifer(tf.keras.Model):\n",
    "    def __init__(self):\n",
    "        super().__init__() \n",
    "        self.model = tf.keras.models.Sequential([\n",
    "            keras.layers.Dense(256,activation = tf.nn.leaky_relu(0.1)),\n",
    "            keras.layers.Dense(128,activation = tf.nn.leaky_relu(0.1))\n",
    "            keras.layers.Dense(1,activation = tf.nn.sigmoid)\n",
    "    def call(self,input):\n",
    "        return self.model(input)"
   ]
  }
 ],
 "metadata": {
  "kernelspec": {
   "display_name": "Python 3",
   "language": "python",
   "name": "python3"
  },
  "language_info": {
   "codemirror_mode": {
    "name": "ipython",
    "version": 3
   },
   "file_extension": ".py",
   "mimetype": "text/x-python",
   "name": "python",
   "nbconvert_exporter": "python",
   "pygments_lexer": "ipython3",
   "version": "3.7.2"
  }
 },
 "nbformat": 4,
 "nbformat_minor": 2
}
